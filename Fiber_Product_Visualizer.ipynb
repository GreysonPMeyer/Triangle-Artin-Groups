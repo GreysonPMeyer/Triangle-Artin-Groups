{
 "cells": [
  {
   "cell_type": "markdown",
   "id": "95b8eb2f",
   "metadata": {},
   "source": [
    "In this notebook we will visualize the fiber products that occur in The Residual Finiteness of $A_{2,3,2n}$ Triangle Artin Groups by Greyson Meyer."
   ]
  },
  {
   "cell_type": "code",
   "execution_count": 62,
   "id": "241e53d0",
   "metadata": {},
   "outputs": [],
   "source": [
    "import turtle\n",
    "import math\n",
    "import tkinter as tkinter\n",
    "import networkx as nx\n",
    "import matplotlib.pyplot as plt"
   ]
  },
  {
   "cell_type": "markdown",
   "id": "0e7acfe4",
   "metadata": {},
   "source": [
    "# The Functions"
   ]
  },
  {
   "cell_type": "markdown",
   "id": "fcaede0f",
   "metadata": {},
   "source": [
    "The fiber_product function calculates the fiber product of two graphs that combinatorially immerse into $\\tilde{U}$."
   ]
  },
  {
   "cell_type": "code",
   "execution_count": 63,
   "id": "a7b71d05",
   "metadata": {},
   "outputs": [],
   "source": [
    "def fiber_product(graph1, graph2):\n",
    "\n",
    "  new_x_arrows = []\n",
    "  new_y_arrows = []\n",
    "  new_d_arrows = []\n",
    "  new_vertices = []\n",
    "\n",
    "  # Here we find the x arrows that arise in the fiber product\n",
    "  for arrow in graph1[0]:\n",
    "    for other_arrow in graph2[0]:\n",
    "\n",
    "      first_value = (arrow[0],other_arrow[0])\n",
    "      second_value = (arrow[1],other_arrow[1])\n",
    "      new_x_arrow = (first_value, second_value)\n",
    "      new_x_arrows.append(new_x_arrow)\n",
    "\n",
    "      if first_value not in new_vertices:\n",
    "        new_vertices.append(first_value)\n",
    "\n",
    "      if second_value not in new_vertices:\n",
    "        new_vertices.append(second_value)\n",
    "\n",
    "  # Here we find the y arrows that arise in the fiber product\n",
    "  for arrow in graph1[1]:\n",
    "    for other_arrow in graph2[1]:\n",
    "\n",
    "      first_value = (arrow[0],other_arrow[0])\n",
    "      second_value = (arrow[1],other_arrow[1])\n",
    "      new_y_arrow = (first_value, second_value)\n",
    "      new_y_arrows.append(new_y_arrow)\n",
    "\n",
    "      if first_value not in new_vertices:\n",
    "        new_vertices.append(first_value)\n",
    "\n",
    "      if second_value not in new_vertices:\n",
    "        new_vertices.append(second_value)\n",
    "\n",
    "  # Here we find the delta arrows that arise in the fiber product\n",
    "  for arrow in graph1[2]:\n",
    "    for other_arrow in graph2[2]:\n",
    "\n",
    "      first_value = (arrow[0],other_arrow[0])\n",
    "      second_value = (arrow[1],other_arrow[1])\n",
    "      new_d_arrow = (first_value, second_value)\n",
    "      new_d_arrows.append(new_d_arrow)\n",
    "\n",
    "      if first_value not in new_vertices:\n",
    "        new_vertices.append(first_value)\n",
    "\n",
    "      if second_value not in new_vertices:\n",
    "        new_vertices.append(second_value)\n",
    "\n",
    "  new_graph = [new_x_arrows, new_y_arrows, new_d_arrows, new_vertices]\n",
    "  return new_graph"
   ]
  },
  {
   "cell_type": "markdown",
   "id": "d2affa79",
   "metadata": {},
   "source": [
    "We display the graph using Python's networkx package."
   ]
  },
  {
   "cell_type": "code",
   "execution_count": 64,
   "id": "ac5b6701",
   "metadata": {},
   "outputs": [],
   "source": [
    "def draw_graph(graph):\n",
    "    x_arrows, y_arrows, d_arrows, vertices = graph\n",
    "\n",
    "    G = nx.MultiDiGraph()\n",
    "    G.add_nodes_from(vertices)\n",
    "\n",
    "    for u,v in x_arrows:\n",
    "        G.add_edge(u, v, color=\"red\")\n",
    "    for u,v in y_arrows:\n",
    "        G.add_edge(u, v, color=\"green\")\n",
    "    for u,v in d_arrows:\n",
    "        G.add_edge(u, v, color=\"yellow\")\n",
    "\n",
    "    colors = [data[\"color\"] for u,v,k,data in G.edges(data=True, keys=True)]\n",
    "    pos = nx.circular_layout(G)\n",
    "\n",
    "    plt.figure(figsize=(8,8))\n",
    "    nx.draw_networkx_nodes(G, pos, node_color=\"blue\", node_size=500)\n",
    "    nx.draw_networkx_labels(G, pos, font_color=\"white\")\n",
    "\n",
    "    for (u,v,k), c in zip(G.edges(keys=True), colors):\n",
    "        rad = 0.2 if c ==\"green\" else 0.0\n",
    "        nx.draw_networkx_edges(\n",
    "            G, pos,\n",
    "            edgelist=[(u,v)],\n",
    "            edge_color=c,\n",
    "            connectionstyle=f'arc3,rad={rad}',\n",
    "            arrows=True,\n",
    "            arrowstyle='-|>',\n",
    "            arrowsize=20,\n",
    "            width=2\n",
    "        )\n",
    "\n",
    "    plt.axis('off')\n",
    "    plt.show()\n"
   ]
  },
  {
   "cell_type": "markdown",
   "id": "4de19474",
   "metadata": {},
   "source": [
    "Later on we will want to display the calculated graph alongside the graph from the paper that is its supergraph. To do this, we use the following function."
   ]
  },
  {
   "cell_type": "code",
   "execution_count": 65,
   "id": "b3017f6b",
   "metadata": {},
   "outputs": [],
   "source": [
    "import matplotlib.pyplot as plt\n",
    "\n",
    "def display_graph_with_image(graph, image, description):\n",
    "    pos, G = draw_graph(graph)\n",
    "\n",
    "    # Create a subplot with two columns: graph | image + description\n",
    "    fig, axes = plt.subplots(1, 2, figsize=(12, 6))\n",
    "\n",
    "    # First subplot: the graph\n",
    "    plt.sca(axes[0])  # set current axes\n",
    "    draw_graph(graph)  # draw the graph again in subplot\n",
    "\n",
    "    # Second subplot: the image + description\n",
    "    plt.sca(axes[1])\n",
    "    if image is not None:\n",
    "        axes[1].imshow(image)\n",
    "    axes[1].axis(\"off\")\n",
    "    axes[1].set_title(description, fontsize=12)\n",
    "\n",
    "    plt.show()"
   ]
  },
  {
   "cell_type": "markdown",
   "id": "6ad9a971",
   "metadata": {},
   "source": [
    "Computing the fiber product of two graphs often results in many connected components. The find_incidence function below returns all of the vertices in \"graph\" that share an edge with \"vertex\". This will be a key tool used to isolate connected components of fiber products later on."
   ]
  },
  {
   "cell_type": "code",
   "execution_count": 66,
   "id": "39b0b8f8",
   "metadata": {},
   "outputs": [],
   "source": [
    "def find_incidence (vertex, graph):\n",
    "\n",
    "  x_edges = graph[0]\n",
    "  y_edges = graph[1]\n",
    "  d_edges = graph[2]\n",
    "  incidence = []\n",
    "\n",
    "  for j in x_edges:\n",
    "    if vertex == j[0] and j[1] not in incidence:\n",
    "      incidence.append(j[1])\n",
    "    if vertex == j[1] and j[0] not in incidence:\n",
    "      incidence.append(j[0])\n",
    "    for j in y_edges:\n",
    "      if vertex == j[0] and j[1] not in incidence:\n",
    "        incidence.append(j[1])\n",
    "      if vertex == j[1] and j[0] not in incidence:\n",
    "        incidence.append(j[0])\n",
    "    for j in d_edges:\n",
    "      if vertex == j[0] and j[1] not in incidence:\n",
    "        incidence.append(j[1])\n",
    "      if vertex == j[1] and j[0] not in incidence:\n",
    "        incidence.append(j[0])\n",
    "        \n",
    "  return incidence"
   ]
  },
  {
   "cell_type": "markdown",
   "id": "eddf229b",
   "metadata": {},
   "source": [
    "The split function below returns a dictionary of the connected components present in \"graph\". We are only interested in connected components that have more than one vertex since $\\sigma(W)$ contains no length-one loops, forcing every connected component that combinatorially immerses into $\\sigma(W)$ with one vertex to be homotopically trivial."
   ]
  },
  {
   "cell_type": "code",
   "execution_count": 67,
   "id": "24602493",
   "metadata": {},
   "outputs": [],
   "source": [
    "def split(graph):\n",
    "\n",
    "  x_edges = graph[0]\n",
    "  y_edges = graph[1]\n",
    "  d_edges = graph[2]\n",
    "  vertices = graph[3]\n",
    "  d = dict()\n",
    "\n",
    "  # for each vertex it puts all of the vertices in the connected component containing that vertex in the 3rd position, including the vertex itself\n",
    "  for i in vertices:\n",
    "    d[i] = [[], [], [], []]\n",
    "    d[i][3] = find_incidence(i, graph)\n",
    "    d[i][3].append(i)\n",
    "\n",
    "  # All of the edges touching that vertex are added to the other indices of d[k]\n",
    "  for k in d:\n",
    "    for edge in x_edges:\n",
    "      if k == edge[0] or k == edge[1]:\n",
    "        d[k][0].append(edge)\n",
    "\n",
    "    for edge in y_edges:\n",
    "      if k == edge[0] or k == edge[1]:\n",
    "        d[k][1].append(edge)\n",
    "\n",
    "    for edge in d_edges:\n",
    "      if k == edge[0] or k == edge[1]:\n",
    "        d[k][2].append(edge)\n",
    "\n",
    "# This is where we find the redundant elements of the dictionary and mark them for deletion\n",
    "  keys_to_delete = []\n",
    "  for j in vertices:\n",
    "    for k in vertices:\n",
    "      # if j and k both share vertices, that means that they are part of the same connected component. So j absorbs all of k's edge info and then k is later deleted.\n",
    "      if (j != k) and (len(set(d[j][3]) & set(d[k][3])) != 0):\n",
    "        d[j][0] = list(set(d[j][0]) | set(d[k][0]))\n",
    "        d[j][1] = list(set(d[j][1]) | set(d[k][1]))\n",
    "        d[j][2] = list(set(d[j][2]) | set(d[k][2]))\n",
    "        d[j][3] = list(set(d[j][3]) | set(d[k][3]))\n",
    "        d[k][3] = []\n",
    "        keys_to_delete.append(k)\n",
    "\n",
    "  for i in keys_to_delete:\n",
    "    del d[i]\n",
    "    \n",
    "  return d"
   ]
  },
  {
   "cell_type": "markdown",
   "id": "2cb44c2f",
   "metadata": {},
   "source": [
    "Everybody likes dictionaries with readable keys! The readable_keys function below does well to keep us all sane."
   ]
  },
  {
   "cell_type": "code",
   "execution_count": 68,
   "id": "a463a5a1",
   "metadata": {},
   "outputs": [],
   "source": [
    "def readable_keys(d):\n",
    "  # Replaces the dictionary keys with numbers to make the prompt in check_fiber easier to understand\n",
    "\n",
    "  better_d = dict()\n",
    "  key_list = list(d.keys())\n",
    "  for key in key_list:\n",
    "    key_index = key_list.index(key)\n",
    "    better_d[key_index] = d[key]\n",
    "  return better_d"
   ]
  },
  {
   "cell_type": "markdown",
   "id": "b43b1d70",
   "metadata": {},
   "source": [
    "The what_subgraph function below tells us which column of Table 1 in the paper that an inputted connected component \"graph\" belongs. The criteria for deciding which column is somewhat arbitrary since there are connected components that arise in the calculations that can be viewed as a subgraph of a number of the relevant graphs in Table 1, and thus could theoretically occupy multiple cells at once. The author has checked by hand that what_subgraph does indeed properly classify all connected components that arise in the fiber products in the paper."
   ]
  },
  {
   "cell_type": "code",
   "execution_count": 69,
   "id": "652fe85d",
   "metadata": {},
   "outputs": [],
   "source": [
    "def what_subgraph(graph):\n",
    "  # Classifies each connected component as being a subgraph of one of the non q-contractible graphs, or else classifies the graph as\n",
    "  # q-contractible. This function was not used to prove that no new non q-contractible connected components arise. The author proved that\n",
    "  # by going through every connected component by hand. This function is simply to be used to partition the connected components after the\n",
    "  # lack of new non q-contractible connected components has already been established.\n",
    "\n",
    "  green_edges = graph[1]\n",
    "  red_edges = graph[0]\n",
    "  rgbigons = []\n",
    "\n",
    "  for green in green_edges:\n",
    "    for red in red_edges:\n",
    "      if ((green[1] == red[0]) and (green[0] == red[1])):\n",
    "        rgbigons.append([green, red])\n",
    "  \n",
    "  # If the connected component has exactly one red-green bigon, it is considered to be a subgraph of Y_1\n",
    "  if len(rgbigons) == 1:\n",
    "    return [1, 'Y1']\n",
    "  \n",
    "  if len(rgbigons) > 1:\n",
    "    bigon1 = rgbigons[0]\n",
    "    bigon2 = rgbigons[1]\n",
    "    green1 = bigon1[0]\n",
    "    green2 = bigon2[0]\n",
    "\n",
    "    # If there are two connected red-green bigons, then the graph is considered to be a subgraph of sigma(W)\n",
    "    if ((green1[1] == green2[0]) or (green2[1] == green1[0])):\n",
    "      return [0, 'sigma(W)']\n",
    "    \n",
    "    checker = 0\n",
    "\n",
    "    # If there is a green edge, then a red edge attached to a red-green bigon, then the graph is considered to be a subgraph of Y_1\n",
    "    for green in green_edges:\n",
    "      if green1[1] == green[0]:\n",
    "        for red in red_edges:\n",
    "          if red[0] == green[1]:\n",
    "            checker = 1\n",
    "            return [1, 'Y1']\n",
    "    \n",
    "    # Any other graph containing multiple red-green bigons is considered to be a subgraph of \\beta(Y_1)\n",
    "    if checker == 0:\n",
    "      return [2, 'bY1']\n",
    "    \n",
    "  # Checks for the length-10 loop that both Y2 and Y3 have, and then decides whether the graph is a subgraph of Y_2 or Y_3\n",
    "  for green in green_edges:\n",
    "    if green[0][1] % 10 == 2:\n",
    "      for red in red_edges:\n",
    "        if red[0] == green[1]:\n",
    "          for red2 in red_edges:\n",
    "            if red2[0] == red[1]:\n",
    "              for green2 in green_edges:\n",
    "                if green2[1] == red2[1]:\n",
    "                  for red3 in red_edges:\n",
    "                    if red3[0] == green2[0]:\n",
    "                      for green3 in green_edges:\n",
    "                        if green3[1] == red3[1]:\n",
    "                          for red4 in red_edges:\n",
    "                            if red4[0] == green3[0]:\n",
    "                              for red5 in red_edges:\n",
    "                                if red5[0] == red4[1]:\n",
    "                                  for green4 in green_edges:\n",
    "                                    if green4[0] == red5[1]:\n",
    "                                      for red6 in red_edges:\n",
    "                                        if red6[1] == green4[1]:\n",
    "                                          if red6[0] == green[0]:\n",
    "                                            if len(green_edges) == 4:\n",
    "                                              return [3, 'Y2']\n",
    "                                            else:\n",
    "                                              two_counter = 0\n",
    "                                              for green5 in green_edges:\n",
    "                                                if green5[0][1] % 10 == 2:\n",
    "                                                  two_counter += 1\n",
    "                                              if two_counter == 4:\n",
    "                                                return [3, 'Y2']\n",
    "                                              else:\n",
    "                                                return [4, 'Y3']\n",
    "\n",
    "  # Checks for the length-12 loop that Y_2 and \\beta(Y_3) have. The previous block takes care of the full copies of Y_2, \n",
    "  # and any subgraphs of Y_2 containing this loop are also subgraphs of \\beta(Y_3), so we choose to label it bY3\n",
    "  for green in green_edges:\n",
    "    if green[0][1] % 10 == 2:\n",
    "      for red in red_edges:\n",
    "        if red[0] == green[1]:\n",
    "          for red2 in red_edges:\n",
    "            if red2[0] == red[1]:\n",
    "              for green2 in green_edges:\n",
    "                if green2[0] == red2[1]:\n",
    "                  for green3 in green_edges:\n",
    "                    if green3[0] == green2[1]:\n",
    "                      for red3 in red_edges:\n",
    "                        if red3[0] == green3[1]:\n",
    "                          for green4 in green_edges:\n",
    "                            if green4[1] == red3[1]:\n",
    "                              for red4 in red_edges:\n",
    "                                if red4[0] == green4[0]:\n",
    "                                  for red5 in red_edges:\n",
    "                                    if red5[0] == red4[1]:\n",
    "                                      for green5 in green_edges:\n",
    "                                        if green5[1] == red5[1]:\n",
    "                                          for green6 in green_edges:\n",
    "                                            if green6[1] == green5[0]:\n",
    "                                              for red6 in red_edges:\n",
    "                                                if ((red6[1] == green6[0]) and (red6[0] == green[0])):\n",
    "                                                  return [5, 'bY3']\n",
    "\n",
    "  # Checks for the length-12 loop that Y_3 has\n",
    "  for green in green_edges:\n",
    "    if green[0][1] % 10 == 1:\n",
    "      for red in red_edges:\n",
    "        if red[1] == green[1]:\n",
    "          for green2 in green_edges:\n",
    "            if green2[1] == red[0]:\n",
    "              for green3 in green_edges:\n",
    "                if green3[1] == green2[0]:\n",
    "                  for red2 in red_edges:\n",
    "                    if red2[0] == green3[0]:\n",
    "                      for red3 in red_edges:\n",
    "                        if red3[0] == red2[1]:\n",
    "                          for green4 in green_edges:\n",
    "                            if green4[1] == red3[1]:\n",
    "                              for red4 in red_edges:\n",
    "                                if red4[0] == green4[0]:\n",
    "                                  for green5 in green_edges:\n",
    "                                    if green5[0] == red4[1]:\n",
    "                                      for green6 in green_edges:\n",
    "                                        if green6[0] == green5[1]:\n",
    "                                          for red5 in red_edges:\n",
    "                                            if red5[0] == green6[1]:\n",
    "                                              for red6 in red_edges:\n",
    "                                                if red6[0] == red5[1]:\n",
    "                                                  if red6[1] == green[0]:\n",
    "                                                    return [4, 'Y3']\n",
    "\n",
    "  return [6, 'q-contractible']"
   ]
  },
  {
   "cell_type": "markdown",
   "id": "66ed736d",
   "metadata": {},
   "source": [
    "The check_row function is used to populate the rows of the table in the paper by applying what_subgraph to every connected component that rises from the fiber product of graph1 and graph2. This was used to double check the author's work, not prove anything."
   ]
  },
  {
   "cell_type": "code",
   "execution_count": 70,
   "id": "49b83858",
   "metadata": {},
   "outputs": [],
   "source": [
    "def check_row(graph1, graph2):\n",
    "  \n",
    "  row = [0, 0, 0, 0, 0, 0, 0]\n",
    "  new = fiber_product(graph1,graph2)\n",
    "  new_split = split(new)\n",
    "  just_red = 0\n",
    "  sub_of_triangle = 0\n",
    "  interesting_list = []\n",
    "\n",
    "  for key in new_split.keys():\n",
    "    g = new_split[key]\n",
    "    if (len(g[1]) == 0 and len(g[2]) == 0):\n",
    "      just_red += 1\n",
    "    elif len(g[0]) == 0 and len(g[1]) <= 3:\n",
    "      sub_of_triangle += 1\n",
    "    else:\n",
    "      interesting_list.append(g)\n",
    "\n",
    "  for component in interesting_list:\n",
    "    info = what_subgraph(component)\n",
    "    index = info[0]\n",
    "    row[index] += 1\n",
    "\n",
    "  row[6] += just_red + sub_of_triangle\n",
    "  return row"
   ]
  },
  {
   "cell_type": "markdown",
   "id": "92b7e3be",
   "metadata": {},
   "source": [
    "Y4_x_Y4 is really large, so we have a special version of check_row made for Y4_x_Y4. The only substantive difference is that the fiber product is not calculated within the function. Instead we feed in the already calculated Y4_x_Y4 to save time."
   ]
  },
  {
   "cell_type": "code",
   "execution_count": 71,
   "id": "abb2efda",
   "metadata": {},
   "outputs": [],
   "source": [
    "def check_row_Y4xY4(graph):\n",
    "  # Special version of check_row since Y_4_x_Y_4 is huge\n",
    "  row = [0, 0, 0, 0, 0, 0, 0]\n",
    "  just_red = 0\n",
    "  sub_of_triangle = 0\n",
    "  interesting_list = []\n",
    "\n",
    "  for key in graph.keys():\n",
    "    g = graph[key]\n",
    "    if (len(g[1]) == 0 and len(g[2]) == 0):\n",
    "      just_red += 1\n",
    "    elif len(g[0]) == 0 and len(g[1]) <= 3:\n",
    "      sub_of_triangle += 1\n",
    "    else:\n",
    "      interesting_list.append(g)\n",
    "\n",
    "  for component in interesting_list:\n",
    "    info = what_subgraph(component)\n",
    "    index = info[0]\n",
    "    row[index] += 1\n",
    "\n",
    "  row[6] += just_red + sub_of_triangle\n",
    "  return row"
   ]
  },
  {
   "cell_type": "markdown",
   "id": "91e7da35",
   "metadata": {},
   "source": [
    "And now for the most important, and likely to be most used function of the bunch: check_fiber. This function calculates the fiber product of graph1 and graph2, splits the result into a dictionary of connected components and then displays the keys of the dictionary for the user's choosing. The user then enters in the key value of the connected component that they would like to see, and the graph is drawn before their very eyes. This way the user can validate for themselves that no new non q-contractible graphs arise as connected componenents of the fiber products from the paper."
   ]
  },
  {
   "cell_type": "code",
   "execution_count": 72,
   "id": "cce95c97",
   "metadata": {},
   "outputs": [],
   "source": [
    "def check_fiber(graph1, graph2, image_dict):\n",
    "    \n",
    "    new = fiber_product(graph1,graph2)\n",
    "    new_split = split(new)\n",
    "    just_red = 0\n",
    "    sub_of_triangle = 0\n",
    "    interesting_dict = dict()\n",
    "\n",
    "    for key in new_split.keys():\n",
    "        g = new_split[key]\n",
    "        if (len(g[1]) == 0 and len(g[2]) == 0):\n",
    "            just_red += 1 # This connected component only has red edges\n",
    "        elif len(g[0]) == 0 and len(g[1]) <= 3:\n",
    "            sub_of_triangle += 1 # This connected component is a subgraph of a triangle\n",
    "        else:\n",
    "            interesting_dict[key] = g\n",
    "\n",
    "    final_dict = readable_keys(interesting_dict)\n",
    "    print(final_dict.keys())\n",
    "    key_key = input('Which key would you like to choose? ')\n",
    "    special_key = int(key_key)\n",
    "    supergraph = what_subgraph(final_dict[special_key])[1]\n",
    "    print('This connected component is a subgraph of ', supergraph, '. There are also ', just_red, ' components that only contain red edges in this fiber product and ', sub_of_triangle, ' connected components that are subgraphs of a green-yellow triangle')\n",
    "    image, description = image_dict[supergraph]\n",
    "    display_graph_with_image(final_dict[special_key, image, description])\n",
    "\n",
    "    return"
   ]
  },
  {
   "cell_type": "markdown",
   "id": "30f26900",
   "metadata": {},
   "source": [
    "# The Graphs"
   ]
  },
  {
   "cell_type": "markdown",
   "id": "7a6b60f6",
   "metadata": {},
   "source": [
    "We begin with the graph that started it all: $\\sigma(W)$."
   ]
  },
  {
   "cell_type": "code",
   "execution_count": 48,
   "id": "13b63d60",
   "metadata": {},
   "outputs": [],
   "source": [
    "sigma_W = [[(1,4),(4,2),(2,3),(3,1)],[(1,3),(3,2),(2,1)],[(1,3),(3,2),(2,1)],[1,2,3,4]]"
   ]
  },
  {
   "cell_type": "markdown",
   "id": "b9bf8601",
   "metadata": {},
   "source": [
    "Here are $Y_1$ and $\\beta(Y_1)$."
   ]
  },
  {
   "cell_type": "code",
   "execution_count": 49,
   "id": "333987e5",
   "metadata": {},
   "outputs": [],
   "source": [
    "Y1 = [[(1,4),(4,2),(2,3),(3,1),(11,14),(14,12),(12,13),(13,11),(21,24),(24,22),(22,23),(23,21)],[(11,3),(3,2),(2,11),(12,21),(21,23),(23,12)],[(11,3),(3,2),(2,11),(12,21),(21,23),(23,12)],[1,2,3,4,11,12,13,14,21,22,23,24]]\n",
    "bY1 = [[(3,1),(1,4),(4,12),(12,3),(11,14),(14,22),(22,13),(13,11)],[(2,1),(1,3),(3,2),(12,11),(13,22),(22,21),(21,13)],[(2,1),(1,3),(3,2),(12,11),(13,22),(22,21),(21,13)],[1,2,3,4,11,12,13,14,21,22]]"
   ]
  },
  {
   "cell_type": "markdown",
   "id": "155214b7",
   "metadata": {},
   "source": [
    "$Y_2$, $Y_3$ and $\\beta(Y_3)$ can be found below. The author chose to define $Y_4 = Y_2 \\bigsqcup Y_3 \\bigsqcup Y_4$, because otherwise Table 1 would have been enormous and not any more revealing."
   ]
  },
  {
   "cell_type": "code",
   "execution_count": 50,
   "id": "ee463532",
   "metadata": {},
   "outputs": [],
   "source": [
    "Y2 = [[(1,4),(4,2),(2,3),(3,1),(11,14),(14,12),(12,13),(13,11),(21,24),(24,22),(22,23),(23,21),(31,34),(34,32),(32,33),(33,31)],[(11,3),(3,42),(42,11),(2,21),(12,31),(41,33),(33,22),(22,41)],[(11,3),(3,42),(42,11),(2,21),(12,31),(41,33),(33,22),(22,41)],[1,2,3,4,11,12,13,14,21,22,23,24,31,32,33,34,41,42]]\n",
    "Y3 = [[(1,4),(4,2),(2,3),(3,1),(11,14),(14,12),(12,13),(13,11),(21,24),(24,22),(22,23),(23,21),(31,34),(34,32),(32,33),(33,31)],[(11,43),(43,2),(2,11),(23,12),(31,3),(21,53),(53,32),(32,21)],[(11,43),(43,2),(2,11),(23,12),(31,3),(21,53),(53,32),(32,21)],[1,2,3,4,11,12,13,14,21,22,23,24,31,32,33,34,43,53]]\n",
    "bY3 = [[(11,4),(4,12),(12,3),(3,11),(32,13),(21,14),(14,52),(52,23),(23,21),(33,51)],[(1,3),(3,2),(2,1),(13,22),(22,11),(32,21),(31,23),(23,42),(42,31),(52,41),(41,33),(12,51)],[(1,3),(3,2),(13,22),(22,11),(32,21),(31,23),(23,42),(52,41),(41,33),(12,51)],[1,2,3,4,11,12,13,14,21,22,23,31,32,33,41,42,51,52]]\n",
    "Y4 = [[(1, 4), (4, 2), (2, 3), (3, 1), (11, 14), (14, 12), (12, 13), (13, 11), (21, 24), (24, 22), (22, 23), (23, 21), (31, 34), (34, 32), (32, 33), (33, 31), (101, 104), (104, 102), (102, 103), (103, 101), (111, 114), (114, 112), (112, 113), (113, 111), (121, 124), (124, 122), (122, 123), (123, 121), (131, 134), (134, 132), (132, 133), (133, 131), (211, 204), (204, 212), (212, 203), (203, 211), (232, 213), (221, 214), (214, 252), (252, 223), (223, 221), (233, 251)], [(11, 3), (3, 42), (42, 11), (2, 21), (12, 31), (41, 33), (33, 22), (22, 41), (111, 143), (143, 102), (102, 111), (123, 112), (131, 103), (121, 153), (153, 132), (132, 121), (201, 203), (203, 202), (202, 201), (213, 222), (222, 211), (232, 221), (231, 223), (223, 242), (242, 231), (252, 241), (241, 233), (212, 251)], [(11, 3), (3, 42), (42, 11), (2, 21), (12, 31), (41, 33), (33, 22), (22, 41), (111, 143), (143, 102), (102, 111), (123, 112), (131, 103), (121, 153), (153, 132), (132, 121), (201, 203), (203, 202), (213, 222), (222, 211), (232, 221), (231, 223), (223, 242), (252, 241), (241, 233), (212, 251)], [1, 2, 3, 4, 11, 12, 13, 14, 21, 22, 23, 24, 31, 32, 33, 34, 41, 42, 101, 102, 103, 104, 111, 112, 113, 114, 121, 122, 123, 124, 131, 132, 133, 134, 143, 153, 201, 202, 203, 204, 211, 212, 213, 214, 221, 222, 223, 231, 232, 233, 241, 242, 251, 252]]"
   ]
  },
  {
   "cell_type": "markdown",
   "id": "b9f2dbea",
   "metadata": {},
   "source": [
    "Lastly, here is the dictionary of images from the paper that we will be using for side-by-side comparisons."
   ]
  },
  {
   "cell_type": "code",
   "execution_count": null,
   "id": "1b9af783",
   "metadata": {},
   "outputs": [],
   "source": []
  },
  {
   "cell_type": "markdown",
   "id": "872776ca",
   "metadata": {},
   "source": [
    "# Example Uses"
   ]
  },
  {
   "cell_type": "markdown",
   "id": "e5ea9b36",
   "metadata": {},
   "source": [
    "If you would like to see what the graph $Y_1$ looks like you would execute the code below. It will draw the graph in a new window."
   ]
  },
  {
   "cell_type": "code",
   "execution_count": 74,
   "id": "22a0e03c",
   "metadata": {},
   "outputs": [
    {
     "data": {
      "image/png": "[encoded data removed]",
      "text/plain": [
       "<Figure size 800x800 with 1 Axes>"
      ]
     },
     "metadata": {},
     "output_type": "display_data"
    }
   ],
   "source": [
    "draw_graph(Y2)"
   ]
  },
  {
   "cell_type": "markdown",
   "id": "fc3adac1",
   "metadata": {},
   "source": [
    "If you would like to inspect the connected components of $\\beta(Y_1)\\otimes_U Y_1$ you would execut the code below."
   ]
  },
  {
   "cell_type": "code",
   "execution_count": null,
   "id": "b5934031",
   "metadata": {},
   "outputs": [
    {
     "name": "stdout",
     "output_type": "stream",
     "text": [
      "dict_keys([0, 1, 2, 3, 4, 5, 6, 7, 8, 9, 10, 11])\n",
      "This connected component is a subgraph of  q-contractible . There are also  0  components that only contain red edges in this fiber product and  0  connected components that are subgraphs of a green-yellow triangle\n"
     ]
    },
    {
     "ename": "Terminator",
     "evalue": "",
     "output_type": "error",
     "traceback": [
      "\u001b[31m---------------------------------------------------------------------------\u001b[39m",
      "\u001b[31mTerminator\u001b[39m                                Traceback (most recent call last)",
      "\u001b[36mCell\u001b[39m\u001b[36m \u001b[39m\u001b[32mIn[16]\u001b[39m\u001b[32m, line 1\u001b[39m\n\u001b[32m----> \u001b[39m\u001b[32m1\u001b[39m check_fiber(bY1, bY1)\n",
      "\u001b[36mCell\u001b[39m\u001b[36m \u001b[39m\u001b[32mIn[15]\u001b[39m\u001b[32m, line 23\u001b[39m, in \u001b[36mcheck_fiber\u001b[39m\u001b[34m(graph1, graph2)\u001b[39m\n\u001b[32m     21\u001b[39m special_key = \u001b[38;5;28mint\u001b[39m(key_key)\n\u001b[32m     22\u001b[39m \u001b[38;5;28mprint\u001b[39m(\u001b[33m'\u001b[39m\u001b[33mThis connected component is a subgraph of \u001b[39m\u001b[33m'\u001b[39m, what_subgraph(final_dict[special_key])[\u001b[32m1\u001b[39m], \u001b[33m'\u001b[39m\u001b[33m. There are also \u001b[39m\u001b[33m'\u001b[39m, just_red, \u001b[33m'\u001b[39m\u001b[33m components that only contain red edges in this fiber product and \u001b[39m\u001b[33m'\u001b[39m, sub_of_triangle, \u001b[33m'\u001b[39m\u001b[33m connected components that are subgraphs of a green-yellow triangle\u001b[39m\u001b[33m'\u001b[39m)\n\u001b[32m---> \u001b[39m\u001b[32m23\u001b[39m draw_graph(final_dict[special_key])\n\u001b[32m     25\u001b[39m \u001b[38;5;66;03m#return interesting_dict\u001b[39;00m\n\u001b[32m     26\u001b[39m \u001b[38;5;28;01mreturn\u001b[39;00m\n",
      "\u001b[36mCell\u001b[39m\u001b[36m \u001b[39m\u001b[32mIn[3]\u001b[39m\u001b[32m, line 4\u001b[39m, in \u001b[36mdraw_graph\u001b[39m\u001b[34m(graph)\u001b[39m\n\u001b[32m      1\u001b[39m \u001b[38;5;28;01mdef\u001b[39;00m\u001b[38;5;250m \u001b[39m\u001b[34mdraw_graph\u001b[39m(graph):\n\u001b[32m      3\u001b[39m   win_width, win_height, bg_color = \u001b[32m10000\u001b[39m, \u001b[32m10000\u001b[39m, \u001b[33m'\u001b[39m\u001b[33mblack\u001b[39m\u001b[33m'\u001b[39m\n\u001b[32m----> \u001b[39m\u001b[32m4\u001b[39m   turtle.setup()\n\u001b[32m      5\u001b[39m   turtle.screensize(win_width, win_height, bg_color)\n\u001b[32m      6\u001b[39m   t = turtle.Turtle()\n",
      "\u001b[36mFile \u001b[39m\u001b[32m<string>:5\u001b[39m, in \u001b[36msetup\u001b[39m\u001b[34m(width, height, startx, starty)\u001b[39m\n",
      "\u001b[31mTerminator\u001b[39m: "
     ]
    },
    {
     "ename": "",
     "evalue": "",
     "output_type": "error",
     "traceback": [
      "\u001b[1;31mThe Kernel crashed while executing code in the current cell or a previous cell. \n",
      "\u001b[1;31mPlease review the code in the cell(s) to identify a possible cause of the failure. \n",
      "\u001b[1;31mClick <a href='https://aka.ms/vscodeJupyterKernelCrash'>here</a> for more info. \n",
      "\u001b[1;31mView Jupyter <a href='command:jupyter.viewOutput'>log</a> for further details."
     ]
    }
   ],
   "source": [
    "check_fiber(bY1, bY1, image_dict)"
   ]
  }
 ],
 "metadata": {
  "kernelspec": {
   "display_name": "Poetry",
   "language": "python",
   "name": "python3"
  },
  "language_info": {
   "codemirror_mode": {
    "name": "ipython",
    "version": 3
   },
   "file_extension": ".py",
   "mimetype": "text/x-python",
   "name": "python",
   "nbconvert_exporter": "python",
   "pygments_lexer": "ipython3",
   "version": "3.11.13"
  }
 },
 "nbformat": 4,
 "nbformat_minor": 5
}
